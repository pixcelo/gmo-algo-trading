{
 "cells": [
  {
   "cell_type": "code",
   "execution_count": 2,
   "metadata": {},
   "outputs": [
    {
     "ename": "ImportError",
     "evalue": "cannot import name 'DummyVecEnv' from 'stable_baselines3.common.envs' (/Users/tek/dev/python/gmo-algo-trading/myenv/lib/python3.11/site-packages/stable_baselines3/common/envs/__init__.py)",
     "output_type": "error",
     "traceback": [
      "\u001b[0;31m---------------------------------------------------------------------------\u001b[0m",
      "\u001b[0;31mImportError\u001b[0m                               Traceback (most recent call last)",
      "Cell \u001b[0;32mIn[2], line 4\u001b[0m\n\u001b[1;32m      2\u001b[0m \u001b[39mimport\u001b[39;00m \u001b[39mnumpy\u001b[39;00m \u001b[39mas\u001b[39;00m \u001b[39mnp\u001b[39;00m\n\u001b[1;32m      3\u001b[0m \u001b[39mfrom\u001b[39;00m \u001b[39mstable_baselines3\u001b[39;00m \u001b[39mimport\u001b[39;00m DQN, A2C\n\u001b[0;32m----> 4\u001b[0m \u001b[39mfrom\u001b[39;00m \u001b[39mstable_baselines3\u001b[39;00m\u001b[39m.\u001b[39;00m\u001b[39mcommon\u001b[39;00m\u001b[39m.\u001b[39;00m\u001b[39menvs\u001b[39;00m \u001b[39mimport\u001b[39;00m DummyVecEnv\n",
      "\u001b[0;31mImportError\u001b[0m: cannot import name 'DummyVecEnv' from 'stable_baselines3.common.envs' (/Users/tek/dev/python/gmo-algo-trading/myenv/lib/python3.11/site-packages/stable_baselines3/common/envs/__init__.py)"
     ]
    }
   ],
   "source": [
    "import gymnasium as gym\n",
    "import numpy as np\n",
    "from stable_baselines3 import DQN, A2C\n",
    "# from stable_baselines3.common.envs import DummyVecEnv"
   ]
  },
  {
   "cell_type": "code",
   "execution_count": null,
   "metadata": {},
   "outputs": [],
   "source": [
    "import gym\n",
    "import numpy as np\n",
    "from stable_baselines3 import DQN, A2C\n",
    "from stable_baselines3.common.envs import DummyVecEnv\n",
    "\n",
    "class TradingEnv(gym.Env):\n",
    "    def __init__(self, prices):\n",
    "        super(TradingEnv, self).__init__()\n",
    "        self.prices = prices\n",
    "        self.max_steps = len(prices)\n",
    "        self.current_step = 0\n",
    "        self.balance = 10000.0  # 初期資金\n",
    "        self.held = 0  # 保有株数\n",
    "        self.action_space = gym.spaces.Discrete(3)  # 買う、売る、何もしないの3つの行動\n",
    "        self.observation_space = gym.spaces.Box(low=np.array([0, 0]), high=np.array([np.inf, np.inf]))  # 資金と保有株数を観測\n",
    "\n",
    "    def step(self, action):\n",
    "        current_price = self.prices[self.current_step]\n",
    "        reward = 0\n",
    "\n",
    "        if action == 0:  # 買う\n",
    "            self.balance -= current_price\n",
    "            self.held += 1\n",
    "        elif action == 1 and self.held > 0:  # 売る\n",
    "            self.balance += current_price\n",
    "            self.held -= 1\n",
    "            reward = self.balance  # 売却後の資金を報酬とする\n",
    "        elif action == 2:  # 何もしない\n",
    "            pass\n",
    "\n",
    "        self.current_step += 1\n",
    "        done = self.current_step == self.max_steps\n",
    "        info = {}\n",
    "        return np.array([self.balance, self.held]), reward, done, info\n",
    "\n",
    "    def reset(self):\n",
    "        self.current_step = 0\n",
    "        self.balance = 10000.0\n",
    "        self.held = 0\n",
    "        return np.array([self.balance, self.held])"
   ]
  }
 ],
 "metadata": {
  "kernelspec": {
   "display_name": "myenv",
   "language": "python",
   "name": "python3"
  },
  "language_info": {
   "codemirror_mode": {
    "name": "ipython",
    "version": 3
   },
   "file_extension": ".py",
   "mimetype": "text/x-python",
   "name": "python",
   "nbconvert_exporter": "python",
   "pygments_lexer": "ipython3",
   "version": "3.11.2"
  },
  "orig_nbformat": 4
 },
 "nbformat": 4,
 "nbformat_minor": 2
}
