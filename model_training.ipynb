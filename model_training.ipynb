{
 "cells": [
  {
   "cell_type": "code",
   "execution_count": 2,
   "metadata": {},
   "outputs": [
    {
     "ename": "NameError",
     "evalue": "name 'df' is not defined",
     "output_type": "error",
     "traceback": [
      "\u001b[0;31m---------------------------------------------------------------------------\u001b[0m",
      "\u001b[0;31mNameError\u001b[0m                                 Traceback (most recent call last)",
      "Cell \u001b[0;32mIn[2], line 49\u001b[0m\n\u001b[1;32m     46\u001b[0m new_data \u001b[39m=\u001b[39m load_data(parent_folder, last_updated)\n\u001b[1;32m     48\u001b[0m \u001b[39mif\u001b[39;00m \u001b[39mnot\u001b[39;00m new_data\u001b[39m.\u001b[39mempty:\n\u001b[0;32m---> 49\u001b[0m     df \u001b[39m=\u001b[39m pd\u001b[39m.\u001b[39mconcat([df, new_data], ignore_index\u001b[39m=\u001b[39m\u001b[39mTrue\u001b[39;00m)\n\u001b[1;32m     50\u001b[0m     save_pickle(df, pickle_file)\n\u001b[1;32m     52\u001b[0m \u001b[39mprint\u001b[39m(df\u001b[39m.\u001b[39mhead())\n",
      "\u001b[0;31mNameError\u001b[0m: name 'df' is not defined"
     ]
    }
   ],
   "source": [
    "import os\n",
    "import pandas as pd\n",
    "from datetime import datetime\n",
    "import pickle\n",
    "import chardet\n",
    "\n",
    "def detect_encoding(file_path):\n",
    "    with open(file_path, 'rb') as f:\n",
    "        result = chardet.detect(f.read())\n",
    "    return result['encoding']\n",
    "\n",
    "def load_data(parent_folder, last_updated):\n",
    "    data = []\n",
    "    subfolders = sorted([f for f in os.listdir(parent_folder) if os.path.isdir(os.path.join(parent_folder, f))])\n",
    "\n",
    "    for subfolder in subfolders:\n",
    "        subfolder_path = os.path.join(parent_folder, subfolder)\n",
    "        csv_files = sorted([f for f in os.listdir(subfolder_path) if f.endswith('.csv') and datetime.strptime(f.split('_')[-1].split('.')[0], '%Y%m%d') > last_updated])\n",
    "\n",
    "        for csv_file in csv_files:\n",
    "            file_path = os.path.join(subfolder_path, csv_file)\n",
    "            encoding = detect_encoding(file_path)\n",
    "            temp_df = pd.read_csv(file_path, encoding=encoding)\n",
    "            data.append(temp_df)\n",
    "\n",
    "    return pd.concat(data, ignore_index=True)\n",
    "\n",
    "def save_pickle(df, file_path):\n",
    "    with open(file_path, 'wb') as f:\n",
    "        pickle.dump(df, f)\n",
    "\n",
    "def load_pickle(file_path):\n",
    "    with open(file_path, 'rb') as f:\n",
    "        return pickle.load(f)\n",
    "\n",
    "parent_folder = 'data'\n",
    "pickle_file = 'data.pickle'\n",
    "\n",
    "if os.path.exists(pickle_file):\n",
    "    df = load_pickle(pickle_file)\n",
    "    last_updated = df['日時'].max()\n",
    "    last_updated = datetime.strptime(str(last_updated), '%Y%m%d%H%M')\n",
    "else:\n",
    "    df = pd.DataFrame()\n",
    "    last_updated = datetime.strptime('19700101', '%Y%m%d')\n",
    "\n",
    "new_data = load_data(parent_folder, last_updated)\n",
    "\n",
    "if not new_data.empty:\n",
    "    df = pd.concat([df, new_data], ignore_index=True)\n",
    "    save_pickle(df, pickle_file)\n",
    "\n",
    "print(df.head())\n"
   ]
  },
  {
   "cell_type": "code",
   "execution_count": null,
   "metadata": {},
   "outputs": [],
   "source": []
  }
 ],
 "metadata": {
  "kernelspec": {
   "display_name": "myenv",
   "language": "python",
   "name": "python3"
  },
  "language_info": {
   "codemirror_mode": {
    "name": "ipython",
    "version": 3
   },
   "file_extension": ".py",
   "mimetype": "text/x-python",
   "name": "python",
   "nbconvert_exporter": "python",
   "pygments_lexer": "ipython3",
   "version": "3.11.2"
  },
  "orig_nbformat": 4
 },
 "nbformat": 4,
 "nbformat_minor": 2
}
